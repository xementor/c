{
  "nbformat": 4,
  "nbformat_minor": 0,
  "metadata": {
    "colab": {
      "provenance": [],
      "authorship_tag": "ABX9TyMsFPhKcsJG1nWCMXaSriZ0",
      "include_colab_link": true
    },
    "kernelspec": {
      "name": "python3",
      "display_name": "Python 3"
    },
    "language_info": {
      "name": "python"
    }
  },
  "cells": [
    {
      "cell_type": "markdown",
      "metadata": {
        "id": "view-in-github",
        "colab_type": "text"
      },
      "source": [
        "<a href=\"https://colab.research.google.com/github/xementor/c/blob/main/Bangla_NLP_WikiBn_dataset.ipynb\" target=\"_parent\"><img src=\"https://colab.research.google.com/assets/colab-badge.svg\" alt=\"Open In Colab\"/></a>"
      ]
    },
    {
      "cell_type": "markdown",
      "source": [
        "## Downloading Data and setting"
      ],
      "metadata": {
        "id": "A8FBXzVK9a0K"
      }
    },
    {
      "cell_type": "code",
      "execution_count": null,
      "metadata": {
        "id": "Qi7sr4308NtQ"
      },
      "outputs": [],
      "source": [
        "!pip install kaggle\n"
      ]
    },
    {
      "cell_type": "code",
      "source": [
        "!gdown --fuzzy \"https://drive.google.com/file/d/1FtardpFhlrtEWDyBlpxD-QPhgEgliVxs/view?usp=share_link\"\n",
        "!mkdir /root/.kaggle/\n",
        "!cp /content/kaggle.json /root/.kaggle/"
      ],
      "metadata": {
        "colab": {
          "base_uri": "https://localhost:8080/"
        },
        "id": "1DX4Wu6H83zz",
        "outputId": "5200f223-e146-42bb-f243-18ba1a9242e0"
      },
      "execution_count": 4,
      "outputs": [
        {
          "output_type": "stream",
          "name": "stdout",
          "text": [
            "Downloading...\n",
            "From: https://drive.google.com/uc?id=1FtardpFhlrtEWDyBlpxD-QPhgEgliVxs\n",
            "To: /content/kaggle.json\n",
            "\r  0% 0.00/64.0 [00:00<?, ?B/s]\r100% 64.0/64.0 [00:00<00:00, 282kB/s]\n"
          ]
        }
      ]
    },
    {
      "cell_type": "code",
      "source": [
        "!kaggle datasets download -d shazol/bangla-wikipedia-corpus"
      ],
      "metadata": {
        "colab": {
          "base_uri": "https://localhost:8080/"
        },
        "id": "dRv-__149ATi",
        "outputId": "f9f6bba7-9585-45fa-ddc3-3397cac7fad4"
      },
      "execution_count": 5,
      "outputs": [
        {
          "output_type": "stream",
          "name": "stdout",
          "text": [
            "Warning: Your Kaggle API key is readable by other users on this system! To fix this, you can run 'chmod 600 /root/.kaggle/kaggle.json'\n",
            "Downloading bangla-wikipedia-corpus.zip to /content\n",
            " 84% 89.0M/106M [00:01<00:00, 58.4MB/s]\n",
            "100% 106M/106M [00:01<00:00, 65.5MB/s] \n"
          ]
        }
      ]
    },
    {
      "cell_type": "code",
      "source": [
        "import zipfile\n",
        "\n",
        "with zipfile.ZipFile('/content/bangla-wikipedia-corpus.zip', 'r') as zip_ref:\n",
        "    zip_ref.extractall('/content/bangla')\n"
      ],
      "metadata": {
        "id": "zP3lK2hP9SAs"
      },
      "execution_count": 6,
      "outputs": []
    },
    {
      "cell_type": "markdown",
      "source": [
        "## Data preprocessing"
      ],
      "metadata": {
        "id": "I5p5YFLQ9f6p"
      }
    },
    {
      "cell_type": "code",
      "source": [
        "import pandas as pd\n",
        "import numpy as np\n",
        "import matplotlib.pyplot as plt\n",
        "import seaborn as sns"
      ],
      "metadata": {
        "id": "i43mv13g9ZrQ"
      },
      "execution_count": 7,
      "outputs": []
    },
    {
      "cell_type": "code",
      "source": [
        "df = pd.read_csv(\"/content/bangla/wiki_bangla.csv\")"
      ],
      "metadata": {
        "id": "my25Ix459ri3"
      },
      "execution_count": 8,
      "outputs": []
    },
    {
      "cell_type": "code",
      "source": [
        "df.head(10)"
      ],
      "metadata": {
        "colab": {
          "base_uri": "https://localhost:8080/",
          "height": 363
        },
        "id": "JFh91pAR9xjP",
        "outputId": "ede1bd75-5e12-4774-93a1-c99a40c93fbf"
      },
      "execution_count": 9,
      "outputs": [
        {
          "output_type": "execute_result",
          "data": {
            "text/plain": [
              "     id                                               text  \\\n",
              "0  1528  রবীন্দ্রনাথ ঠাকুর\\n\\nরবীন্দ্রনাথ ঠাকুর (৭ই মে,...   \n",
              "1  1529  কাজী নজরুল ইসলাম\\n\\nকাজী নজরুল ইসলাম (২৪ মে ১৮...   \n",
              "2  1531  ডোনাল্ড কানুথ\\n\\nডনাল্ড কানুথ মার্কিন কম্পিউটা...   \n",
              "3  1532  ক্লদ শান্নন\\n\\nক্লদ শ্যানন (এপ্রিল ৩০, ১৯১৬ - ...   \n",
              "4  1533  বুলিয়ান বীজগণিত\\n\\nবুলিয়ান বীজগণিত () যা ১৮৫...   \n",
              "5  1534  পশ্চিমবঙ্গের জেলা\\n\\nভারতীয় প্রজাতন্ত্রের পূর...   \n",
              "6  1537  প্রাক-ইতিহাস\\n\\nপ্রাক-ইতিহাস বা প্রাগৈতিহাসিক ...   \n",
              "7  1541  মাইক্রোইলেকট্রনিক্স\\n\\nমাইক্রোইলেকট্রনিক্‌স ()...   \n",
              "8  1542  ইন্টেল কর্পোরেশন\\n\\nইন্টেল কর্পোরেশন একটি আমের...   \n",
              "9  1543  সান মাইক্রোসিস্টেম্‌স\\n\\nসান মাইক্রোসিস্টেম্‌স...   \n",
              "\n",
              "                   title                                       url  \n",
              "0      রবীন্দ্রনাথ ঠাকুর  https://bn.wikipedia.org/wiki?curid=1528  \n",
              "1       কাজী নজরুল ইসলাম  https://bn.wikipedia.org/wiki?curid=1529  \n",
              "2          ডোনাল্ড কানুথ  https://bn.wikipedia.org/wiki?curid=1531  \n",
              "3            ক্লদ শান্নন  https://bn.wikipedia.org/wiki?curid=1532  \n",
              "4       বুলিয়ান বীজগণিত  https://bn.wikipedia.org/wiki?curid=1533  \n",
              "5      পশ্চিমবঙ্গের জেলা  https://bn.wikipedia.org/wiki?curid=1534  \n",
              "6           প্রাক-ইতিহাস  https://bn.wikipedia.org/wiki?curid=1537  \n",
              "7    মাইক্রোইলেকট্রনিক্স  https://bn.wikipedia.org/wiki?curid=1541  \n",
              "8       ইন্টেল কর্পোরেশন  https://bn.wikipedia.org/wiki?curid=1542  \n",
              "9  সান মাইক্রোসিস্টেম্‌স  https://bn.wikipedia.org/wiki?curid=1543  "
            ],
            "text/html": [
              "\n",
              "  <div id=\"df-974a4134-3bcf-4e7d-9bbd-ea0c543a0ff8\">\n",
              "    <div class=\"colab-df-container\">\n",
              "      <div>\n",
              "<style scoped>\n",
              "    .dataframe tbody tr th:only-of-type {\n",
              "        vertical-align: middle;\n",
              "    }\n",
              "\n",
              "    .dataframe tbody tr th {\n",
              "        vertical-align: top;\n",
              "    }\n",
              "\n",
              "    .dataframe thead th {\n",
              "        text-align: right;\n",
              "    }\n",
              "</style>\n",
              "<table border=\"1\" class=\"dataframe\">\n",
              "  <thead>\n",
              "    <tr style=\"text-align: right;\">\n",
              "      <th></th>\n",
              "      <th>id</th>\n",
              "      <th>text</th>\n",
              "      <th>title</th>\n",
              "      <th>url</th>\n",
              "    </tr>\n",
              "  </thead>\n",
              "  <tbody>\n",
              "    <tr>\n",
              "      <th>0</th>\n",
              "      <td>1528</td>\n",
              "      <td>রবীন্দ্রনাথ ঠাকুর\\n\\nরবীন্দ্রনাথ ঠাকুর (৭ই মে,...</td>\n",
              "      <td>রবীন্দ্রনাথ ঠাকুর</td>\n",
              "      <td>https://bn.wikipedia.org/wiki?curid=1528</td>\n",
              "    </tr>\n",
              "    <tr>\n",
              "      <th>1</th>\n",
              "      <td>1529</td>\n",
              "      <td>কাজী নজরুল ইসলাম\\n\\nকাজী নজরুল ইসলাম (২৪ মে ১৮...</td>\n",
              "      <td>কাজী নজরুল ইসলাম</td>\n",
              "      <td>https://bn.wikipedia.org/wiki?curid=1529</td>\n",
              "    </tr>\n",
              "    <tr>\n",
              "      <th>2</th>\n",
              "      <td>1531</td>\n",
              "      <td>ডোনাল্ড কানুথ\\n\\nডনাল্ড কানুথ মার্কিন কম্পিউটা...</td>\n",
              "      <td>ডোনাল্ড কানুথ</td>\n",
              "      <td>https://bn.wikipedia.org/wiki?curid=1531</td>\n",
              "    </tr>\n",
              "    <tr>\n",
              "      <th>3</th>\n",
              "      <td>1532</td>\n",
              "      <td>ক্লদ শান্নন\\n\\nক্লদ শ্যানন (এপ্রিল ৩০, ১৯১৬ - ...</td>\n",
              "      <td>ক্লদ শান্নন</td>\n",
              "      <td>https://bn.wikipedia.org/wiki?curid=1532</td>\n",
              "    </tr>\n",
              "    <tr>\n",
              "      <th>4</th>\n",
              "      <td>1533</td>\n",
              "      <td>বুলিয়ান বীজগণিত\\n\\nবুলিয়ান বীজগণিত () যা ১৮৫...</td>\n",
              "      <td>বুলিয়ান বীজগণিত</td>\n",
              "      <td>https://bn.wikipedia.org/wiki?curid=1533</td>\n",
              "    </tr>\n",
              "    <tr>\n",
              "      <th>5</th>\n",
              "      <td>1534</td>\n",
              "      <td>পশ্চিমবঙ্গের জেলা\\n\\nভারতীয় প্রজাতন্ত্রের পূর...</td>\n",
              "      <td>পশ্চিমবঙ্গের জেলা</td>\n",
              "      <td>https://bn.wikipedia.org/wiki?curid=1534</td>\n",
              "    </tr>\n",
              "    <tr>\n",
              "      <th>6</th>\n",
              "      <td>1537</td>\n",
              "      <td>প্রাক-ইতিহাস\\n\\nপ্রাক-ইতিহাস বা প্রাগৈতিহাসিক ...</td>\n",
              "      <td>প্রাক-ইতিহাস</td>\n",
              "      <td>https://bn.wikipedia.org/wiki?curid=1537</td>\n",
              "    </tr>\n",
              "    <tr>\n",
              "      <th>7</th>\n",
              "      <td>1541</td>\n",
              "      <td>মাইক্রোইলেকট্রনিক্স\\n\\nমাইক্রোইলেকট্রনিক্‌স ()...</td>\n",
              "      <td>মাইক্রোইলেকট্রনিক্স</td>\n",
              "      <td>https://bn.wikipedia.org/wiki?curid=1541</td>\n",
              "    </tr>\n",
              "    <tr>\n",
              "      <th>8</th>\n",
              "      <td>1542</td>\n",
              "      <td>ইন্টেল কর্পোরেশন\\n\\nইন্টেল কর্পোরেশন একটি আমের...</td>\n",
              "      <td>ইন্টেল কর্পোরেশন</td>\n",
              "      <td>https://bn.wikipedia.org/wiki?curid=1542</td>\n",
              "    </tr>\n",
              "    <tr>\n",
              "      <th>9</th>\n",
              "      <td>1543</td>\n",
              "      <td>সান মাইক্রোসিস্টেম্‌স\\n\\nসান মাইক্রোসিস্টেম্‌স...</td>\n",
              "      <td>সান মাইক্রোসিস্টেম্‌স</td>\n",
              "      <td>https://bn.wikipedia.org/wiki?curid=1543</td>\n",
              "    </tr>\n",
              "  </tbody>\n",
              "</table>\n",
              "</div>\n",
              "      <button class=\"colab-df-convert\" onclick=\"convertToInteractive('df-974a4134-3bcf-4e7d-9bbd-ea0c543a0ff8')\"\n",
              "              title=\"Convert this dataframe to an interactive table.\"\n",
              "              style=\"display:none;\">\n",
              "        \n",
              "  <svg xmlns=\"http://www.w3.org/2000/svg\" height=\"24px\"viewBox=\"0 0 24 24\"\n",
              "       width=\"24px\">\n",
              "    <path d=\"M0 0h24v24H0V0z\" fill=\"none\"/>\n",
              "    <path d=\"M18.56 5.44l.94 2.06.94-2.06 2.06-.94-2.06-.94-.94-2.06-.94 2.06-2.06.94zm-11 1L8.5 8.5l.94-2.06 2.06-.94-2.06-.94L8.5 2.5l-.94 2.06-2.06.94zm10 10l.94 2.06.94-2.06 2.06-.94-2.06-.94-.94-2.06-.94 2.06-2.06.94z\"/><path d=\"M17.41 7.96l-1.37-1.37c-.4-.4-.92-.59-1.43-.59-.52 0-1.04.2-1.43.59L10.3 9.45l-7.72 7.72c-.78.78-.78 2.05 0 2.83L4 21.41c.39.39.9.59 1.41.59.51 0 1.02-.2 1.41-.59l7.78-7.78 2.81-2.81c.8-.78.8-2.07 0-2.86zM5.41 20L4 18.59l7.72-7.72 1.47 1.35L5.41 20z\"/>\n",
              "  </svg>\n",
              "      </button>\n",
              "      \n",
              "  <style>\n",
              "    .colab-df-container {\n",
              "      display:flex;\n",
              "      flex-wrap:wrap;\n",
              "      gap: 12px;\n",
              "    }\n",
              "\n",
              "    .colab-df-convert {\n",
              "      background-color: #E8F0FE;\n",
              "      border: none;\n",
              "      border-radius: 50%;\n",
              "      cursor: pointer;\n",
              "      display: none;\n",
              "      fill: #1967D2;\n",
              "      height: 32px;\n",
              "      padding: 0 0 0 0;\n",
              "      width: 32px;\n",
              "    }\n",
              "\n",
              "    .colab-df-convert:hover {\n",
              "      background-color: #E2EBFA;\n",
              "      box-shadow: 0px 1px 2px rgba(60, 64, 67, 0.3), 0px 1px 3px 1px rgba(60, 64, 67, 0.15);\n",
              "      fill: #174EA6;\n",
              "    }\n",
              "\n",
              "    [theme=dark] .colab-df-convert {\n",
              "      background-color: #3B4455;\n",
              "      fill: #D2E3FC;\n",
              "    }\n",
              "\n",
              "    [theme=dark] .colab-df-convert:hover {\n",
              "      background-color: #434B5C;\n",
              "      box-shadow: 0px 1px 3px 1px rgba(0, 0, 0, 0.15);\n",
              "      filter: drop-shadow(0px 1px 2px rgba(0, 0, 0, 0.3));\n",
              "      fill: #FFFFFF;\n",
              "    }\n",
              "  </style>\n",
              "\n",
              "      <script>\n",
              "        const buttonEl =\n",
              "          document.querySelector('#df-974a4134-3bcf-4e7d-9bbd-ea0c543a0ff8 button.colab-df-convert');\n",
              "        buttonEl.style.display =\n",
              "          google.colab.kernel.accessAllowed ? 'block' : 'none';\n",
              "\n",
              "        async function convertToInteractive(key) {\n",
              "          const element = document.querySelector('#df-974a4134-3bcf-4e7d-9bbd-ea0c543a0ff8');\n",
              "          const dataTable =\n",
              "            await google.colab.kernel.invokeFunction('convertToInteractive',\n",
              "                                                     [key], {});\n",
              "          if (!dataTable) return;\n",
              "\n",
              "          const docLinkHtml = 'Like what you see? Visit the ' +\n",
              "            '<a target=\"_blank\" href=https://colab.research.google.com/notebooks/data_table.ipynb>data table notebook</a>'\n",
              "            + ' to learn more about interactive tables.';\n",
              "          element.innerHTML = '';\n",
              "          dataTable['output_type'] = 'display_data';\n",
              "          await google.colab.output.renderOutput(dataTable, element);\n",
              "          const docLink = document.createElement('div');\n",
              "          docLink.innerHTML = docLinkHtml;\n",
              "          element.appendChild(docLink);\n",
              "        }\n",
              "      </script>\n",
              "    </div>\n",
              "  </div>\n",
              "  "
            ]
          },
          "metadata": {},
          "execution_count": 9
        }
      ]
    },
    {
      "cell_type": "code",
      "source": [
        "df.shape"
      ],
      "metadata": {
        "colab": {
          "base_uri": "https://localhost:8080/"
        },
        "id": "HyZBlBOL93ZH",
        "outputId": "6f333343-d8e0-4036-b492-3c4614f445ca"
      },
      "execution_count": 10,
      "outputs": [
        {
          "output_type": "execute_result",
          "data": {
            "text/plain": [
              "(56794, 4)"
            ]
          },
          "metadata": {},
          "execution_count": 10
        }
      ]
    }
  ]
}