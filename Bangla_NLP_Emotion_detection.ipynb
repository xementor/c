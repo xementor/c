{
  "nbformat": 4,
  "nbformat_minor": 0,
  "metadata": {
    "colab": {
      "provenance": [],
      "mount_file_id": "13GL-CsdxN5_OvkzdK4plgV6FVBB_YbGe",
      "authorship_tag": "ABX9TyOsUQDatABR3J1BWX33D8Ej",
      "include_colab_link": true
    },
    "kernelspec": {
      "name": "python3",
      "display_name": "Python 3"
    },
    "language_info": {
      "name": "python"
    },
    "widgets": {
      "application/vnd.jupyter.widget-state+json": {
        "8f60c262d5fc4e4eb68dd196f2f676c9": {
          "model_module": "@jupyter-widgets/controls",
          "model_name": "HBoxModel",
          "model_module_version": "1.5.0",
          "state": {
            "_dom_classes": [],
            "_model_module": "@jupyter-widgets/controls",
            "_model_module_version": "1.5.0",
            "_model_name": "HBoxModel",
            "_view_count": null,
            "_view_module": "@jupyter-widgets/controls",
            "_view_module_version": "1.5.0",
            "_view_name": "HBoxView",
            "box_style": "",
            "children": [
              "IPY_MODEL_6a13581e6ba24d8f849a0591a2ab6bdc",
              "IPY_MODEL_1bf7050d2495402a9b2762de0f06013e",
              "IPY_MODEL_eac7bc45427f4399a7c1169d8d4c8058"
            ],
            "layout": "IPY_MODEL_2d91bd7bdc84498abd3e7ad527aa861e"
          }
        },
        "6a13581e6ba24d8f849a0591a2ab6bdc": {
          "model_module": "@jupyter-widgets/controls",
          "model_name": "HTMLModel",
          "model_module_version": "1.5.0",
          "state": {
            "_dom_classes": [],
            "_model_module": "@jupyter-widgets/controls",
            "_model_module_version": "1.5.0",
            "_model_name": "HTMLModel",
            "_view_count": null,
            "_view_module": "@jupyter-widgets/controls",
            "_view_module_version": "1.5.0",
            "_view_name": "HTMLView",
            "description": "",
            "description_tooltip": null,
            "layout": "IPY_MODEL_22560174518d40aea096c5d7df49c73e",
            "placeholder": "​",
            "style": "IPY_MODEL_b81de6cbd2cd49abb4ef769ed23af6a6",
            "value": "100%"
          }
        },
        "1bf7050d2495402a9b2762de0f06013e": {
          "model_module": "@jupyter-widgets/controls",
          "model_name": "FloatProgressModel",
          "model_module_version": "1.5.0",
          "state": {
            "_dom_classes": [],
            "_model_module": "@jupyter-widgets/controls",
            "_model_module_version": "1.5.0",
            "_model_name": "FloatProgressModel",
            "_view_count": null,
            "_view_module": "@jupyter-widgets/controls",
            "_view_module_version": "1.5.0",
            "_view_name": "ProgressView",
            "bar_style": "success",
            "description": "",
            "description_tooltip": null,
            "layout": "IPY_MODEL_eff48afa8984451caec529421df359c4",
            "max": 18420,
            "min": 0,
            "orientation": "horizontal",
            "style": "IPY_MODEL_3bbdedc8ef8f4e6093ad4fe4eae29589",
            "value": 18420
          }
        },
        "eac7bc45427f4399a7c1169d8d4c8058": {
          "model_module": "@jupyter-widgets/controls",
          "model_name": "HTMLModel",
          "model_module_version": "1.5.0",
          "state": {
            "_dom_classes": [],
            "_model_module": "@jupyter-widgets/controls",
            "_model_module_version": "1.5.0",
            "_model_name": "HTMLModel",
            "_view_count": null,
            "_view_module": "@jupyter-widgets/controls",
            "_view_module_version": "1.5.0",
            "_view_name": "HTMLView",
            "description": "",
            "description_tooltip": null,
            "layout": "IPY_MODEL_9d72e62324e8499f837b788b5cb747cf",
            "placeholder": "​",
            "style": "IPY_MODEL_94a861e360e44262a63360c0d86ac9b5",
            "value": " 18420/18420 [00:04&lt;00:00, 4751.00it/s]"
          }
        },
        "2d91bd7bdc84498abd3e7ad527aa861e": {
          "model_module": "@jupyter-widgets/base",
          "model_name": "LayoutModel",
          "model_module_version": "1.2.0",
          "state": {
            "_model_module": "@jupyter-widgets/base",
            "_model_module_version": "1.2.0",
            "_model_name": "LayoutModel",
            "_view_count": null,
            "_view_module": "@jupyter-widgets/base",
            "_view_module_version": "1.2.0",
            "_view_name": "LayoutView",
            "align_content": null,
            "align_items": null,
            "align_self": null,
            "border": null,
            "bottom": null,
            "display": null,
            "flex": null,
            "flex_flow": null,
            "grid_area": null,
            "grid_auto_columns": null,
            "grid_auto_flow": null,
            "grid_auto_rows": null,
            "grid_column": null,
            "grid_gap": null,
            "grid_row": null,
            "grid_template_areas": null,
            "grid_template_columns": null,
            "grid_template_rows": null,
            "height": null,
            "justify_content": null,
            "justify_items": null,
            "left": null,
            "margin": null,
            "max_height": null,
            "max_width": null,
            "min_height": null,
            "min_width": null,
            "object_fit": null,
            "object_position": null,
            "order": null,
            "overflow": null,
            "overflow_x": null,
            "overflow_y": null,
            "padding": null,
            "right": null,
            "top": null,
            "visibility": null,
            "width": null
          }
        },
        "22560174518d40aea096c5d7df49c73e": {
          "model_module": "@jupyter-widgets/base",
          "model_name": "LayoutModel",
          "model_module_version": "1.2.0",
          "state": {
            "_model_module": "@jupyter-widgets/base",
            "_model_module_version": "1.2.0",
            "_model_name": "LayoutModel",
            "_view_count": null,
            "_view_module": "@jupyter-widgets/base",
            "_view_module_version": "1.2.0",
            "_view_name": "LayoutView",
            "align_content": null,
            "align_items": null,
            "align_self": null,
            "border": null,
            "bottom": null,
            "display": null,
            "flex": null,
            "flex_flow": null,
            "grid_area": null,
            "grid_auto_columns": null,
            "grid_auto_flow": null,
            "grid_auto_rows": null,
            "grid_column": null,
            "grid_gap": null,
            "grid_row": null,
            "grid_template_areas": null,
            "grid_template_columns": null,
            "grid_template_rows": null,
            "height": null,
            "justify_content": null,
            "justify_items": null,
            "left": null,
            "margin": null,
            "max_height": null,
            "max_width": null,
            "min_height": null,
            "min_width": null,
            "object_fit": null,
            "object_position": null,
            "order": null,
            "overflow": null,
            "overflow_x": null,
            "overflow_y": null,
            "padding": null,
            "right": null,
            "top": null,
            "visibility": null,
            "width": null
          }
        },
        "b81de6cbd2cd49abb4ef769ed23af6a6": {
          "model_module": "@jupyter-widgets/controls",
          "model_name": "DescriptionStyleModel",
          "model_module_version": "1.5.0",
          "state": {
            "_model_module": "@jupyter-widgets/controls",
            "_model_module_version": "1.5.0",
            "_model_name": "DescriptionStyleModel",
            "_view_count": null,
            "_view_module": "@jupyter-widgets/base",
            "_view_module_version": "1.2.0",
            "_view_name": "StyleView",
            "description_width": ""
          }
        },
        "eff48afa8984451caec529421df359c4": {
          "model_module": "@jupyter-widgets/base",
          "model_name": "LayoutModel",
          "model_module_version": "1.2.0",
          "state": {
            "_model_module": "@jupyter-widgets/base",
            "_model_module_version": "1.2.0",
            "_model_name": "LayoutModel",
            "_view_count": null,
            "_view_module": "@jupyter-widgets/base",
            "_view_module_version": "1.2.0",
            "_view_name": "LayoutView",
            "align_content": null,
            "align_items": null,
            "align_self": null,
            "border": null,
            "bottom": null,
            "display": null,
            "flex": null,
            "flex_flow": null,
            "grid_area": null,
            "grid_auto_columns": null,
            "grid_auto_flow": null,
            "grid_auto_rows": null,
            "grid_column": null,
            "grid_gap": null,
            "grid_row": null,
            "grid_template_areas": null,
            "grid_template_columns": null,
            "grid_template_rows": null,
            "height": null,
            "justify_content": null,
            "justify_items": null,
            "left": null,
            "margin": null,
            "max_height": null,
            "max_width": null,
            "min_height": null,
            "min_width": null,
            "object_fit": null,
            "object_position": null,
            "order": null,
            "overflow": null,
            "overflow_x": null,
            "overflow_y": null,
            "padding": null,
            "right": null,
            "top": null,
            "visibility": null,
            "width": null
          }
        },
        "3bbdedc8ef8f4e6093ad4fe4eae29589": {
          "model_module": "@jupyter-widgets/controls",
          "model_name": "ProgressStyleModel",
          "model_module_version": "1.5.0",
          "state": {
            "_model_module": "@jupyter-widgets/controls",
            "_model_module_version": "1.5.0",
            "_model_name": "ProgressStyleModel",
            "_view_count": null,
            "_view_module": "@jupyter-widgets/base",
            "_view_module_version": "1.2.0",
            "_view_name": "StyleView",
            "bar_color": null,
            "description_width": ""
          }
        },
        "9d72e62324e8499f837b788b5cb747cf": {
          "model_module": "@jupyter-widgets/base",
          "model_name": "LayoutModel",
          "model_module_version": "1.2.0",
          "state": {
            "_model_module": "@jupyter-widgets/base",
            "_model_module_version": "1.2.0",
            "_model_name": "LayoutModel",
            "_view_count": null,
            "_view_module": "@jupyter-widgets/base",
            "_view_module_version": "1.2.0",
            "_view_name": "LayoutView",
            "align_content": null,
            "align_items": null,
            "align_self": null,
            "border": null,
            "bottom": null,
            "display": null,
            "flex": null,
            "flex_flow": null,
            "grid_area": null,
            "grid_auto_columns": null,
            "grid_auto_flow": null,
            "grid_auto_rows": null,
            "grid_column": null,
            "grid_gap": null,
            "grid_row": null,
            "grid_template_areas": null,
            "grid_template_columns": null,
            "grid_template_rows": null,
            "height": null,
            "justify_content": null,
            "justify_items": null,
            "left": null,
            "margin": null,
            "max_height": null,
            "max_width": null,
            "min_height": null,
            "min_width": null,
            "object_fit": null,
            "object_position": null,
            "order": null,
            "overflow": null,
            "overflow_x": null,
            "overflow_y": null,
            "padding": null,
            "right": null,
            "top": null,
            "visibility": null,
            "width": null
          }
        },
        "94a861e360e44262a63360c0d86ac9b5": {
          "model_module": "@jupyter-widgets/controls",
          "model_name": "DescriptionStyleModel",
          "model_module_version": "1.5.0",
          "state": {
            "_model_module": "@jupyter-widgets/controls",
            "_model_module_version": "1.5.0",
            "_model_name": "DescriptionStyleModel",
            "_view_count": null,
            "_view_module": "@jupyter-widgets/base",
            "_view_module_version": "1.2.0",
            "_view_name": "StyleView",
            "description_width": ""
          }
        }
      }
    }
  },
  "cells": [
    {
      "cell_type": "markdown",
      "metadata": {
        "id": "view-in-github",
        "colab_type": "text"
      },
      "source": [
        "<a href=\"https://colab.research.google.com/github/xementor/c/blob/main/Bangla_NLP_Emotion_detection.ipynb\" target=\"_parent\"><img src=\"https://colab.research.google.com/assets/colab-badge.svg\" alt=\"Open In Colab\"/></a>"
      ]
    },
    {
      "cell_type": "markdown",
      "source": [
        "## Downlaod Dataset and Library"
      ],
      "metadata": {
        "id": "53zjxvDpT93u"
      }
    },
    {
      "cell_type": "code",
      "execution_count": 1,
      "metadata": {
        "colab": {
          "base_uri": "https://localhost:8080/"
        },
        "id": "a5IfaKQQZQyd",
        "outputId": "7a2c0136-c036-424f-8428-78d322e1aa50"
      },
      "outputs": [
        {
          "output_type": "stream",
          "name": "stdout",
          "text": [
            "Downloading...\n",
            "From: https://drive.google.com/uc?id=112hpGzc1Y0sxoD-Q3B-jW1Je9n_m5-l8\n",
            "To: /content/Train.csv\n",
            "100% 3.65M/3.65M [00:00<00:00, 100MB/s]\n",
            "Downloading...\n",
            "From: https://drive.google.com/uc?id=1LZdCAMq2qh27qEOz5AM2PuuxE62O_UFi\n",
            "To: /content/TiroBangla-Regular.ttf\n",
            "100% 288k/288k [00:00<00:00, 134MB/s]\n"
          ]
        }
      ],
      "source": [
        "!gdown --fuzzy \"https://drive.google.com/file/d/112hpGzc1Y0sxoD-Q3B-jW1Je9n_m5-l8/view?usp=share_link\"\n",
        "!gdown --fuzzy \"https://drive.google.com/file/d/1LZdCAMq2qh27qEOz5AM2PuuxE62O_UFi/view?usp=share_link\""
      ]
    },
    {
      "cell_type": "code",
      "source": [
        "!pip install -q python-Levenshtein scikit-plot bnlp_toolkit git+https://github.com/biplobsd/Bangla-stemmer.git git+https://github.com/biplobsd/number-to-bengali-word.git git+https://github.com/banglakit/lemmatizer.git#egg=banglakit-lemmatizer"
      ],
      "metadata": {
        "colab": {
          "base_uri": "https://localhost:8080/"
        },
        "id": "G5zKQ3r0d-1V",
        "outputId": "f21fcdfb-9370-41da-e2c3-8fdf9678075a"
      },
      "execution_count": 2,
      "outputs": [
        {
          "output_type": "stream",
          "name": "stdout",
          "text": [
            "  Preparing metadata (setup.py) ... \u001b[?25l\u001b[?25hdone\n",
            "  Preparing metadata (setup.py) ... \u001b[?25l\u001b[?25hdone\n",
            "  Preparing metadata (setup.py) ... \u001b[?25l\u001b[?25hdone\n"
          ]
        }
      ]
    },
    {
      "cell_type": "code",
      "source": [
        "!pip install -q bangla-stemmer"
      ],
      "metadata": {
        "id": "5FdsOErjfKKt"
      },
      "execution_count": 3,
      "outputs": []
    },
    {
      "cell_type": "markdown",
      "source": [
        "## Imprting Libaray"
      ],
      "metadata": {
        "id": "c7Hk6L4hUCab"
      }
    },
    {
      "cell_type": "code",
      "source": [
        "import pandas as pd\n",
        "import numpy as np\n",
        "import seaborn as sns\n",
        "import re"
      ],
      "metadata": {
        "id": "5wwWeqa2dBMS"
      },
      "execution_count": 4,
      "outputs": []
    },
    {
      "cell_type": "markdown",
      "source": [
        "## Dataset Exploration"
      ],
      "metadata": {
        "id": "6ylKzrGNUHDt"
      }
    },
    {
      "cell_type": "code",
      "source": [
        "df = pd.read_csv(\"/content/Train.csv\")"
      ],
      "metadata": {
        "id": "bOK2fJ1gdG0A"
      },
      "execution_count": 5,
      "outputs": []
    },
    {
      "cell_type": "code",
      "source": [
        "df.head()"
      ],
      "metadata": {
        "colab": {
          "base_uri": "https://localhost:8080/",
          "height": 268
        },
        "id": "2bZrlx2_dL9M",
        "outputId": "82bc4745-91b9-4e52-a8b6-b624592185eb"
      },
      "execution_count": 6,
      "outputs": [
        {
          "output_type": "execute_result",
          "data": {
            "text/plain": [
              "      ID                                               Data  Love  Joy  \\\n",
              "0   5454                            লকাল বাস ভালো এটা থেকে      0    0   \n",
              "1  22549  কত অভিজানই তো চলে কিন্তু ওয়াসার পানির অভিজান ক...     0    0   \n",
              "2   7033  বিয়ের মহল ছেড়ে তিনি বিস্রাম নিতে চলে যান (৬ ...     0    0   \n",
              "3  21114                  চাচাজি তো কেবল মাকে ধর্ষণ করেছেন      0    0   \n",
              "4  23683                          সত্যিকার মানুষ তারাই ভাই      0    1   \n",
              "\n",
              "   Surprise  Anger  Sadness  Fear      Topic    Domain  is_admin  \n",
              "0         0      0        1     0     Travel   Youtube     False  \n",
              "1         0      0        1     0   Politics   Youtube     False  \n",
              "2         0      1        0     0   Personal  Facebook     False  \n",
              "3         0      0        1     0  Education  Facebook     False  \n",
              "4         0      0        0     0   Personal   Youtube     False  "
            ],
            "text/html": [
              "\n",
              "  <div id=\"df-29236413-6a66-4883-98c3-16ea4031bb99\">\n",
              "    <div class=\"colab-df-container\">\n",
              "      <div>\n",
              "<style scoped>\n",
              "    .dataframe tbody tr th:only-of-type {\n",
              "        vertical-align: middle;\n",
              "    }\n",
              "\n",
              "    .dataframe tbody tr th {\n",
              "        vertical-align: top;\n",
              "    }\n",
              "\n",
              "    .dataframe thead th {\n",
              "        text-align: right;\n",
              "    }\n",
              "</style>\n",
              "<table border=\"1\" class=\"dataframe\">\n",
              "  <thead>\n",
              "    <tr style=\"text-align: right;\">\n",
              "      <th></th>\n",
              "      <th>ID</th>\n",
              "      <th>Data</th>\n",
              "      <th>Love</th>\n",
              "      <th>Joy</th>\n",
              "      <th>Surprise</th>\n",
              "      <th>Anger</th>\n",
              "      <th>Sadness</th>\n",
              "      <th>Fear</th>\n",
              "      <th>Topic</th>\n",
              "      <th>Domain</th>\n",
              "      <th>is_admin</th>\n",
              "    </tr>\n",
              "  </thead>\n",
              "  <tbody>\n",
              "    <tr>\n",
              "      <th>0</th>\n",
              "      <td>5454</td>\n",
              "      <td>লকাল বাস ভালো এটা থেকে</td>\n",
              "      <td>0</td>\n",
              "      <td>0</td>\n",
              "      <td>0</td>\n",
              "      <td>0</td>\n",
              "      <td>1</td>\n",
              "      <td>0</td>\n",
              "      <td>Travel</td>\n",
              "      <td>Youtube</td>\n",
              "      <td>False</td>\n",
              "    </tr>\n",
              "    <tr>\n",
              "      <th>1</th>\n",
              "      <td>22549</td>\n",
              "      <td>কত অভিজানই তো চলে কিন্তু ওয়াসার পানির অভিজান ক...</td>\n",
              "      <td>0</td>\n",
              "      <td>0</td>\n",
              "      <td>0</td>\n",
              "      <td>0</td>\n",
              "      <td>1</td>\n",
              "      <td>0</td>\n",
              "      <td>Politics</td>\n",
              "      <td>Youtube</td>\n",
              "      <td>False</td>\n",
              "    </tr>\n",
              "    <tr>\n",
              "      <th>2</th>\n",
              "      <td>7033</td>\n",
              "      <td>বিয়ের মহল ছেড়ে তিনি বিস্রাম নিতে চলে যান (৬ ...</td>\n",
              "      <td>0</td>\n",
              "      <td>0</td>\n",
              "      <td>0</td>\n",
              "      <td>1</td>\n",
              "      <td>0</td>\n",
              "      <td>0</td>\n",
              "      <td>Personal</td>\n",
              "      <td>Facebook</td>\n",
              "      <td>False</td>\n",
              "    </tr>\n",
              "    <tr>\n",
              "      <th>3</th>\n",
              "      <td>21114</td>\n",
              "      <td>চাচাজি তো কেবল মাকে ধর্ষণ করেছেন</td>\n",
              "      <td>0</td>\n",
              "      <td>0</td>\n",
              "      <td>0</td>\n",
              "      <td>0</td>\n",
              "      <td>1</td>\n",
              "      <td>0</td>\n",
              "      <td>Education</td>\n",
              "      <td>Facebook</td>\n",
              "      <td>False</td>\n",
              "    </tr>\n",
              "    <tr>\n",
              "      <th>4</th>\n",
              "      <td>23683</td>\n",
              "      <td>সত্যিকার মানুষ তারাই ভাই</td>\n",
              "      <td>0</td>\n",
              "      <td>1</td>\n",
              "      <td>0</td>\n",
              "      <td>0</td>\n",
              "      <td>0</td>\n",
              "      <td>0</td>\n",
              "      <td>Personal</td>\n",
              "      <td>Youtube</td>\n",
              "      <td>False</td>\n",
              "    </tr>\n",
              "  </tbody>\n",
              "</table>\n",
              "</div>\n",
              "      <button class=\"colab-df-convert\" onclick=\"convertToInteractive('df-29236413-6a66-4883-98c3-16ea4031bb99')\"\n",
              "              title=\"Convert this dataframe to an interactive table.\"\n",
              "              style=\"display:none;\">\n",
              "        \n",
              "  <svg xmlns=\"http://www.w3.org/2000/svg\" height=\"24px\"viewBox=\"0 0 24 24\"\n",
              "       width=\"24px\">\n",
              "    <path d=\"M0 0h24v24H0V0z\" fill=\"none\"/>\n",
              "    <path d=\"M18.56 5.44l.94 2.06.94-2.06 2.06-.94-2.06-.94-.94-2.06-.94 2.06-2.06.94zm-11 1L8.5 8.5l.94-2.06 2.06-.94-2.06-.94L8.5 2.5l-.94 2.06-2.06.94zm10 10l.94 2.06.94-2.06 2.06-.94-2.06-.94-.94-2.06-.94 2.06-2.06.94z\"/><path d=\"M17.41 7.96l-1.37-1.37c-.4-.4-.92-.59-1.43-.59-.52 0-1.04.2-1.43.59L10.3 9.45l-7.72 7.72c-.78.78-.78 2.05 0 2.83L4 21.41c.39.39.9.59 1.41.59.51 0 1.02-.2 1.41-.59l7.78-7.78 2.81-2.81c.8-.78.8-2.07 0-2.86zM5.41 20L4 18.59l7.72-7.72 1.47 1.35L5.41 20z\"/>\n",
              "  </svg>\n",
              "      </button>\n",
              "      \n",
              "  <style>\n",
              "    .colab-df-container {\n",
              "      display:flex;\n",
              "      flex-wrap:wrap;\n",
              "      gap: 12px;\n",
              "    }\n",
              "\n",
              "    .colab-df-convert {\n",
              "      background-color: #E8F0FE;\n",
              "      border: none;\n",
              "      border-radius: 50%;\n",
              "      cursor: pointer;\n",
              "      display: none;\n",
              "      fill: #1967D2;\n",
              "      height: 32px;\n",
              "      padding: 0 0 0 0;\n",
              "      width: 32px;\n",
              "    }\n",
              "\n",
              "    .colab-df-convert:hover {\n",
              "      background-color: #E2EBFA;\n",
              "      box-shadow: 0px 1px 2px rgba(60, 64, 67, 0.3), 0px 1px 3px 1px rgba(60, 64, 67, 0.15);\n",
              "      fill: #174EA6;\n",
              "    }\n",
              "\n",
              "    [theme=dark] .colab-df-convert {\n",
              "      background-color: #3B4455;\n",
              "      fill: #D2E3FC;\n",
              "    }\n",
              "\n",
              "    [theme=dark] .colab-df-convert:hover {\n",
              "      background-color: #434B5C;\n",
              "      box-shadow: 0px 1px 3px 1px rgba(0, 0, 0, 0.15);\n",
              "      filter: drop-shadow(0px 1px 2px rgba(0, 0, 0, 0.3));\n",
              "      fill: #FFFFFF;\n",
              "    }\n",
              "  </style>\n",
              "\n",
              "      <script>\n",
              "        const buttonEl =\n",
              "          document.querySelector('#df-29236413-6a66-4883-98c3-16ea4031bb99 button.colab-df-convert');\n",
              "        buttonEl.style.display =\n",
              "          google.colab.kernel.accessAllowed ? 'block' : 'none';\n",
              "\n",
              "        async function convertToInteractive(key) {\n",
              "          const element = document.querySelector('#df-29236413-6a66-4883-98c3-16ea4031bb99');\n",
              "          const dataTable =\n",
              "            await google.colab.kernel.invokeFunction('convertToInteractive',\n",
              "                                                     [key], {});\n",
              "          if (!dataTable) return;\n",
              "\n",
              "          const docLinkHtml = 'Like what you see? Visit the ' +\n",
              "            '<a target=\"_blank\" href=https://colab.research.google.com/notebooks/data_table.ipynb>data table notebook</a>'\n",
              "            + ' to learn more about interactive tables.';\n",
              "          element.innerHTML = '';\n",
              "          dataTable['output_type'] = 'display_data';\n",
              "          await google.colab.output.renderOutput(dataTable, element);\n",
              "          const docLink = document.createElement('div');\n",
              "          docLink.innerHTML = docLinkHtml;\n",
              "          element.appendChild(docLink);\n",
              "        }\n",
              "      </script>\n",
              "    </div>\n",
              "  </div>\n",
              "  "
            ]
          },
          "metadata": {},
          "execution_count": 6
        }
      ]
    },
    {
      "cell_type": "code",
      "source": [
        "df.shape\n"
      ],
      "metadata": {
        "colab": {
          "base_uri": "https://localhost:8080/"
        },
        "id": "n89FEwhX2Txu",
        "outputId": "a3a8cf92-cf33-4d43-df31-b2a5049928d6"
      },
      "execution_count": 7,
      "outputs": [
        {
          "output_type": "execute_result",
          "data": {
            "text/plain": [
              "(18420, 11)"
            ]
          },
          "metadata": {},
          "execution_count": 7
        }
      ]
    },
    {
      "cell_type": "code",
      "source": [
        "\n",
        "df['Result'] = df.apply(lambda row: 0 if row['Love'] == 1 else\n",
        "                                    1 if row['Joy'] == 1 else\n",
        "                                    2 if row['Surprise'] == 1 else\n",
        "                                    3 if row['Anger'] == 1 else\n",
        "                                    4 if row['Sadness'] == 1 else\n",
        "                                    5 if row['Fear'] == 1 else None, axis=1)\n"
      ],
      "metadata": {
        "id": "kJGPUiBBRsoG"
      },
      "execution_count": 8,
      "outputs": []
    },
    {
      "cell_type": "code",
      "source": [
        "data = df.Data"
      ],
      "metadata": {
        "id": "-nJZoy2qdVCy"
      },
      "execution_count": 9,
      "outputs": []
    },
    {
      "cell_type": "markdown",
      "source": [
        "## Tokenizing, Stop Word Removing"
      ],
      "metadata": {
        "id": "ggBYUrj-T0-P"
      }
    },
    {
      "cell_type": "code",
      "source": [
        "import inflect\n",
        "from bnlp import NLTKTokenizer\n",
        "from banglakit import lemmatizer as lem\n",
        "from banglakit.lemmatizer import BengaliLemmatizer\n",
        "# from bangla_stemmer.stemmer import stemmer\n",
        "from bnlp.corpus import stopwords, punctuations\n",
        "from number_to_bengali.main import to_bn_word\n",
        "\n",
        "lemmatizer = BengaliLemmatizer()\n",
        "bnltk = NLTKTokenizer()\n",
        "# stmr = stemmer.BanglaStemmer(log_print=False)\n",
        "punctuationsExtened = punctuations+'‘’“”'\n",
        "\n",
        "def norm_url(text):  \n",
        "  return re.sub(r'http\\S+|www.\\S+|pic.\\S+', '',text.lower())\n",
        "\n",
        "def norm_email(text):  \n",
        "  return re.sub(r'[a-zA-Z0-9_.+-]+@[a-zA-Z0-9-]+\\.[a-zA-Z0-9-.]+', '',text)\n",
        "\n",
        "def norm_tag(text):  \n",
        "  return re.sub(r'(?<=^|(?<=[^a-zA-Z0-9-_\\.]))@([A-Za-z]+[A-Za-z0-9-_]+)', '',text)\n",
        "\n",
        "def remove_phone_numbers(text):\n",
        "  return re.sub(r'(01|০১|০৯)\\d{9}', '', text)\n",
        "\n",
        "def process_text(text):\n",
        "  token_words = bnltk.word_tokenize(text)\n",
        "  return token_words\n",
        "\n",
        "def remove_punctuation(words):\n",
        "  \"\"\"Remove punctuation from list of tokenized words\"\"\"\n",
        "  new_words = []\n",
        "  for word in words:\n",
        "      if not word in punctuationsExtened:\n",
        "        new_words.append(word)\n",
        "  return new_words\n",
        "\n",
        "def replace_numbers(words):\n",
        "  \"\"\"Replace all interger occurrences in list of tokenized words with textual representation\"\"\"\n",
        "  new_words = []\n",
        "  for word in words:\n",
        "      if word.isdigit():\n",
        "          try:\n",
        "            new_word = to_bn_word(word)\n",
        "          except KeyError:\n",
        "            print(word)\n",
        "            raise Exception('Error:', word)\n",
        "          new_words.append(new_word)\n",
        "      else:\n",
        "          new_words.append(word)\n",
        "  return new_words\n",
        "\n",
        "\n",
        "def remove_numbers(words):\n",
        "    \"\"\"Replace all integer occurrences in a list of tokenized words with textual representation\"\"\"\n",
        "    new_words = []\n",
        "    for word in words:\n",
        "        if not word.isdigit():\n",
        "            new_words.append(word)\n",
        "    return new_words\n",
        "\n",
        "def remove_stopwords(words):\n",
        "  \"\"\"Remove stop words from list of tokenized words\"\"\"\n",
        "  new_words = []\n",
        "  for word in words:\n",
        "      if word not in stopwords:\n",
        "          new_words.append(word)\n",
        "  return new_words\n",
        "\n",
        "def stem_words(words):\n",
        "  \"\"\"Stem words in list of tokenized words\"\"\"\n",
        "  stems = []\n",
        "  for word in words:\n",
        "      stem = stmr.stem(word)\n",
        "      stems.append(stem)\n",
        "  return stems\n",
        "\n",
        "def lemmatize_verbs(words):\n",
        "  \"\"\"Lemmatize verbs in list of tokenized words\"\"\"\n",
        "  lemmas = []\n",
        "  for word in words:\n",
        "      lemma = lemmatizer.lemmatize(word, pos=lem.POS_PROPN)\n",
        "      lemmas.append(lemma)\n",
        "  return lemmas\n",
        "\n",
        "def normalize(text):\n",
        "  text = norm_url(text)\n",
        "  text = norm_email(text)\n",
        "  text = norm_tag(text)\n",
        "  text = remove_phone_numbers(text)\n",
        "  words = process_text(text)\n",
        "  words = remove_punctuation(words)\n",
        "  words = remove_numbers(words)\n",
        "  words = remove_stopwords(words)\n",
        "  # words = stem_words(words)\n",
        "  words = lemmatize_verbs(words)\n",
        "  return words\n",
        "\n",
        "def normalize_to_string(text):\n",
        "  return ' '.join(normalize(text))"
      ],
      "metadata": {
        "id": "UBVLUANQd3wv"
      },
      "execution_count": 10,
      "outputs": []
    },
    {
      "cell_type": "code",
      "source": [
        "from tqdm._tqdm_notebook import tqdm_notebook\n",
        "tqdm_notebook.pandas()\n",
        "\n",
        "def text_preprocessing(df,col_name):\n",
        "    df[col_name] = df[col_name].progress_apply(normalize_to_string)\n",
        "    return df"
      ],
      "metadata": {
        "colab": {
          "base_uri": "https://localhost:8080/"
        },
        "id": "Qn7-ClY5f5O5",
        "outputId": "b2d7105e-f928-41dc-d2e3-d7aa9675d726"
      },
      "execution_count": 11,
      "outputs": [
        {
          "output_type": "stream",
          "name": "stderr",
          "text": [
            "<ipython-input-11-15a3eb9c005a>:1: TqdmDeprecationWarning: This function will be removed in tqdm==5.0.0\n",
            "Please use `tqdm.notebook.*` instead of `tqdm._tqdm_notebook.*`\n",
            "  from tqdm._tqdm_notebook import tqdm_notebook\n"
          ]
        }
      ]
    },
    {
      "cell_type": "code",
      "source": [
        "cleaned_df = text_preprocessing(df.copy(), \"Data\")"
      ],
      "metadata": {
        "colab": {
          "base_uri": "https://localhost:8080/",
          "height": 49,
          "referenced_widgets": [
            "8f60c262d5fc4e4eb68dd196f2f676c9",
            "6a13581e6ba24d8f849a0591a2ab6bdc",
            "1bf7050d2495402a9b2762de0f06013e",
            "eac7bc45427f4399a7c1169d8d4c8058",
            "2d91bd7bdc84498abd3e7ad527aa861e",
            "22560174518d40aea096c5d7df49c73e",
            "b81de6cbd2cd49abb4ef769ed23af6a6",
            "eff48afa8984451caec529421df359c4",
            "3bbdedc8ef8f4e6093ad4fe4eae29589",
            "9d72e62324e8499f837b788b5cb747cf",
            "94a861e360e44262a63360c0d86ac9b5"
          ]
        },
        "id": "2LH5FlPef69h",
        "outputId": "6bd472a3-6430-4251-fa6b-d08620f7ea5b"
      },
      "execution_count": 12,
      "outputs": [
        {
          "output_type": "display_data",
          "data": {
            "text/plain": [
              "  0%|          | 0/18420 [00:00<?, ?it/s]"
            ],
            "application/vnd.jupyter.widget-view+json": {
              "version_major": 2,
              "version_minor": 0,
              "model_id": "8f60c262d5fc4e4eb68dd196f2f676c9"
            }
          },
          "metadata": {}
        }
      ]
    },
    {
      "cell_type": "code",
      "source": [
        "cleaned_df.Data.head()"
      ],
      "metadata": {
        "colab": {
          "base_uri": "https://localhost:8080/"
        },
        "id": "zETswU6WhRjv",
        "outputId": "629bdb78-9cae-4469-87cf-370434e202da"
      },
      "execution_count": 13,
      "outputs": [
        {
          "output_type": "execute_result",
          "data": {
            "text/plain": [
              "0                                        লকাল বাস ভালো\n",
              "1                          অভিজানই ওয়াসার পানির অভিজান\n",
              "2    বিয়ের মহল ছেড়ে বিস্রাম নং ছবি বিয়ের মারা নব...\n",
              "3                               চাচাজি কেবল মাকে ধর্ষণ\n",
              "4                             সত্যিকার মানুষ তারাই ভাই\n",
              "Name: Data, dtype: object"
            ]
          },
          "metadata": {},
          "execution_count": 13
        }
      ]
    },
    {
      "cell_type": "code",
      "source": [
        "df.Data.head()"
      ],
      "metadata": {
        "colab": {
          "base_uri": "https://localhost:8080/"
        },
        "id": "tIFgQoMjhZPz",
        "outputId": "29c42e62-6602-42e1-a15a-f626160f46d6"
      },
      "execution_count": 14,
      "outputs": [
        {
          "output_type": "execute_result",
          "data": {
            "text/plain": [
              "0                              লকাল বাস ভালো এটা থেকে \n",
              "1    কত অভিজানই তো চলে কিন্তু ওয়াসার পানির অভিজান ক...\n",
              "2    বিয়ের মহল ছেড়ে তিনি বিস্রাম নিতে চলে যান (৬ ...\n",
              "3                    চাচাজি তো কেবল মাকে ধর্ষণ করেছেন \n",
              "4                            সত্যিকার মানুষ তারাই ভাই \n",
              "Name: Data, dtype: object"
            ]
          },
          "metadata": {},
          "execution_count": 14
        }
      ]
    },
    {
      "cell_type": "code",
      "source": [
        "### Calculating the word frequency by using nltk\n",
        "import nltk\n",
        "words_list = []\n",
        "for sentence in cleaned_df.Data:\n",
        "    words_list.extend(bnltk.word_tokenize(sentence))\n",
        "freq_dist = nltk.FreqDist(words_list)\n",
        "freq_dist.most_common(20)"
      ],
      "metadata": {
        "colab": {
          "base_uri": "https://localhost:8080/"
        },
        "id": "-1-1ZvEAhozj",
        "outputId": "e5e08298-72ee-4bac-e9a6-00743f65a63d"
      },
      "execution_count": 15,
      "outputs": [
        {
          "output_type": "execute_result",
          "data": {
            "text/plain": [
              "[('ভাই', 2565),\n",
              " ('ভালো', 1848),\n",
              " ('-PRON-', 1168),\n",
              " ('একটা', 1030),\n",
              " ('লাগ', 966),\n",
              " ('দেখ', 736),\n",
              " ('টা', 734),\n",
              " ('ভিডিও', 704),\n",
              " ('যাওয়া', 671),\n",
              " ('কথা', 670),\n",
              " ('গান', 669),\n",
              " ('নাটক', 645),\n",
              " ('সাথে', 645),\n",
              " ('মানুষ', 608),\n",
              " ('সুন্দর', 597),\n",
              " ('কর', 597),\n",
              " ('ধন্যবাদ', 579),\n",
              " ('ভাল', 538),\n",
              " ('চাই', 528),\n",
              " ('বল', 504)]"
            ]
          },
          "metadata": {},
          "execution_count": 15
        }
      ]
    },
    {
      "cell_type": "code",
      "source": [
        "from matplotlib.font_manager import FontProperties\n",
        "import matplotlib.pyplot as plt\n",
        "\n",
        "plt.figure() \n",
        "prop = FontProperties()\n",
        "prop.set_file('/content/TiroBangla-Regular.ttf')\n",
        "temp = pd.DataFrame(freq_dist.most_common(30),  columns=['word', 'count'])\n",
        "fig, ax = plt.subplots(figsize=(10, 6))\n",
        "sns.barplot(x='word', y='count', \n",
        "            data=temp, ax=ax)\n",
        "plt.title(\"Top words\")\n",
        "plt.xticks(rotation='vertical', fontproperties=prop)\n",
        "plt.show()"
      ],
      "metadata": {
        "colab": {
          "base_uri": "https://localhost:8080/",
          "height": 617
        },
        "id": "qwqpM1eshzKb",
        "outputId": "ae66f835-dbb1-43cd-bc64-f839fd41f1ea"
      },
      "execution_count": 16,
      "outputs": [
        {
          "output_type": "display_data",
          "data": {
            "text/plain": [
              "<Figure size 640x480 with 0 Axes>"
            ]
          },
          "metadata": {}
        },
        {
          "output_type": "display_data",
          "data": {
            "text/plain": [
              "<Figure size 1000x600 with 1 Axes>"
            ],
            "image/png": "[encoded data removed]"
          },
          "metadata": {}
        }
      ]
    },
    {
      "cell_type": "markdown",
      "source": [
        "## BOW (Bag of word)"
      ],
      "metadata": {
        "id": "SbhFPRXJjhW-"
      }
    },
    {
      "cell_type": "code",
      "source": [
        "from sklearn.feature_extraction.text import CountVectorizer\n",
        "from sklearn.naive_bayes import MultinomialNB\n",
        "from sklearn.model_selection import train_test_split\n",
        "from sklearn.metrics import accuracy_score\n",
        "\n",
        "\n",
        "documents = cleaned_df.Data.values\n",
        "labels = df.Result.values\n",
        "\n",
        "# Step 2: Create vocabulary using CountVectorizer\n",
        "vectorizer = CountVectorizer()\n",
        "X = vectorizer.fit_transform(documents)\n",
        "vocabulary = vectorizer.get_feature_names_out()\n",
        "\n",
        "# Step 3: Represent documents using BoW vectors\n",
        "bow_representation = X.toarray()\n",
        "\n",
        "# # Step 4: Split the dataset into training and testing sets\n",
        "X_train, X_test, y_train, y_test = train_test_split(bow_representation, labels, test_size=0.2, random_state=42)\n",
        "\n",
        "# # Step 5: Train the Naive Bayes classifier\n",
        "classifier = MultinomialNB()\n",
        "classifier.fit(X_train, y_train)\n",
        "\n",
        "# # Step 6: Predict the class labels for the testing set\n",
        "predictions = classifier.predict(X_test)\n",
        "\n",
        "# # Step 7: Measure the classification accuracy\n",
        "accuracy = accuracy_score(y_test, predictions)\n",
        "print(\"Accuracy:\", accuracy)\n"
      ],
      "metadata": {
        "colab": {
          "base_uri": "https://localhost:8080/"
        },
        "id": "qOU2CtADlVlw",
        "outputId": "2596e768-1cd6-4e6f-bd4c-e95df83e6bba"
      },
      "execution_count": 16,
      "outputs": [
        {
          "output_type": "stream",
          "name": "stdout",
          "text": [
            "Accuracy: 0.46715526601520085\n"
          ]
        }
      ]
    },
    {
      "cell_type": "markdown",
      "source": [
        "## Embedding"
      ],
      "metadata": {
        "id": "E3rjyLEJ2CPH"
      }
    },
    {
      "cell_type": "code",
      "source": [
        "import json\n",
        "import tensorflow as tf\n",
        "\n",
        "from tensorflow.keras.preprocessing.text import Tokenizer\n",
        "from tensorflow.keras.preprocessing.sequence import pad_sequences"
      ],
      "metadata": {
        "id": "4-iUUS042Bxj"
      },
      "execution_count": 17,
      "outputs": []
    },
    {
      "cell_type": "code",
      "source": [
        "df.shape"
      ],
      "metadata": {
        "colab": {
          "base_uri": "https://localhost:8080/"
        },
        "id": "50P4EZcp2uaO",
        "outputId": "fb589120-624d-4952-d8f0-28d0fb2dc200"
      },
      "execution_count": 18,
      "outputs": [
        {
          "output_type": "execute_result",
          "data": {
            "text/plain": [
              "(18420, 12)"
            ]
          },
          "metadata": {},
          "execution_count": 18
        }
      ]
    },
    {
      "cell_type": "code",
      "source": [
        "vocab_size = 7000\n",
        "embedding_dim = 16\n",
        "max_length = 100\n",
        "trunc_type='post'\n",
        "padding_type='post'\n",
        "oov_tok = \"<OOV>\"\n",
        "training_size = 15000\n"
      ],
      "metadata": {
        "id": "5GNi-fws2G_H"
      },
      "execution_count": 19,
      "outputs": []
    },
    {
      "cell_type": "code",
      "source": [
        "sentences = cleaned_df.Data.values\n",
        "labels = df.Result.values"
      ],
      "metadata": {
        "id": "yY5OYhJB3E1u"
      },
      "execution_count": 20,
      "outputs": []
    },
    {
      "cell_type": "code",
      "source": [
        "training_sentences = sentences[0:training_size]\n",
        "testing_sentences = sentences[training_size:]\n",
        "training_labels = labels[0:training_size]\n",
        "testing_labels = labels[training_size:]"
      ],
      "metadata": {
        "id": "G1HTkg4H3Drc"
      },
      "execution_count": 21,
      "outputs": []
    },
    {
      "cell_type": "code",
      "source": [
        "tokenizer = Tokenizer(num_words=vocab_size, oov_token=oov_tok)\n",
        "tokenizer.fit_on_texts(training_sentences)\n",
        "\n",
        "word_index = tokenizer.word_index\n",
        "\n",
        "training_sequences = tokenizer.texts_to_sequences(training_sentences)\n",
        "training_padded = pad_sequences(training_sequences, maxlen=max_length, padding=padding_type, truncating=trunc_type)\n",
        "\n",
        "testing_sequences = tokenizer.texts_to_sequences(testing_sentences)\n",
        "testing_padded = pad_sequences(testing_sequences, maxlen=max_length, padding=padding_type, truncating=trunc_type)"
      ],
      "metadata": {
        "id": "v3D1cHdX3UjG"
      },
      "execution_count": 22,
      "outputs": []
    },
    {
      "cell_type": "code",
      "source": [
        "# Need this block to get it to work with TensorFlow 2.x\n",
        "import numpy as np\n",
        "training_padded = np.array(training_padded)\n",
        "training_labels = np.array(training_labels)\n",
        "testing_padded = np.array(testing_padded)\n",
        "testing_labels = np.array(testing_labels)"
      ],
      "metadata": {
        "id": "I-FOXmF43cVE"
      },
      "execution_count": 23,
      "outputs": []
    },
    {
      "cell_type": "code",
      "source": [
        "model = tf.keras.Sequential([\n",
        "    tf.keras.layers.Embedding(vocab_size, embedding_dim, input_length=max_length),\n",
        "    tf.keras.layers.GlobalAveragePooling1D(),\n",
        "    tf.keras.layers.Dense(24, activation='relu'),\n",
        "    tf.keras.layers.Dense(6, activation='softmax')\n",
        "])\n",
        "model.compile(loss='sparse_categorical_crossentropy', optimizer='adam', metrics=['accuracy'])\n"
      ],
      "metadata": {
        "id": "SbJNFIJB3fPq"
      },
      "execution_count": 26,
      "outputs": []
    },
    {
      "cell_type": "code",
      "source": [
        "model.summary()\n"
      ],
      "metadata": {
        "id": "DkxzAK4P3snj"
      },
      "execution_count": null,
      "outputs": []
    },
    {
      "cell_type": "code",
      "source": [
        "num_epochs = 30\n",
        "history = model.fit(training_padded, training_labels, epochs=num_epochs, validation_data=(testing_padded, testing_labels), verbose=2)"
      ],
      "metadata": {
        "colab": {
          "base_uri": "https://localhost:8080/"
        },
        "id": "IkOUXlMK4aBZ",
        "outputId": "0a34778d-6a29-4a89-8211-e6c16bf37ee0"
      },
      "execution_count": 28,
      "outputs": [
        {
          "output_type": "stream",
          "name": "stdout",
          "text": [
            "Epoch 1/30\n",
            "469/469 - 3s - loss: 1.5705 - accuracy: 0.3335 - val_loss: 1.4899 - val_accuracy: 0.3556 - 3s/epoch - 6ms/step\n",
            "Epoch 2/30\n",
            "469/469 - 2s - loss: 1.4967 - accuracy: 0.3508 - val_loss: 1.4793 - val_accuracy: 0.3561 - 2s/epoch - 4ms/step\n",
            "Epoch 3/30\n",
            "469/469 - 2s - loss: 1.4780 - accuracy: 0.3565 - val_loss: 1.4540 - val_accuracy: 0.3614 - 2s/epoch - 4ms/step\n",
            "Epoch 4/30\n",
            "469/469 - 2s - loss: 1.4371 - accuracy: 0.3831 - val_loss: 1.4013 - val_accuracy: 0.3854 - 2s/epoch - 4ms/step\n",
            "Epoch 5/30\n",
            "469/469 - 2s - loss: 1.3704 - accuracy: 0.4182 - val_loss: 1.3440 - val_accuracy: 0.4336 - 2s/epoch - 4ms/step\n",
            "Epoch 6/30\n",
            "469/469 - 3s - loss: 1.2893 - accuracy: 0.4627 - val_loss: 1.2695 - val_accuracy: 0.4477 - 3s/epoch - 5ms/step\n",
            "Epoch 7/30\n",
            "469/469 - 2s - loss: 1.2163 - accuracy: 0.4907 - val_loss: 1.2247 - val_accuracy: 0.4795 - 2s/epoch - 4ms/step\n",
            "Epoch 8/30\n",
            "469/469 - 2s - loss: 1.1632 - accuracy: 0.5083 - val_loss: 1.1960 - val_accuracy: 0.4851 - 2s/epoch - 3ms/step\n",
            "Epoch 9/30\n",
            "469/469 - 2s - loss: 1.1235 - accuracy: 0.5201 - val_loss: 1.1782 - val_accuracy: 0.5053 - 2s/epoch - 4ms/step\n",
            "Epoch 10/30\n",
            "469/469 - 2s - loss: 1.0918 - accuracy: 0.5389 - val_loss: 1.1677 - val_accuracy: 0.5067 - 2s/epoch - 3ms/step\n",
            "Epoch 11/30\n",
            "469/469 - 2s - loss: 1.0615 - accuracy: 0.5538 - val_loss: 1.1543 - val_accuracy: 0.5079 - 2s/epoch - 4ms/step\n",
            "Epoch 12/30\n",
            "469/469 - 2s - loss: 1.0309 - accuracy: 0.5733 - val_loss: 1.1414 - val_accuracy: 0.5289 - 2s/epoch - 4ms/step\n",
            "Epoch 13/30\n",
            "469/469 - 2s - loss: 1.0001 - accuracy: 0.5970 - val_loss: 1.1389 - val_accuracy: 0.5412 - 2s/epoch - 5ms/step\n",
            "Epoch 14/30\n",
            "469/469 - 2s - loss: 0.9664 - accuracy: 0.6201 - val_loss: 1.1246 - val_accuracy: 0.5532 - 2s/epoch - 5ms/step\n",
            "Epoch 15/30\n",
            "469/469 - 2s - loss: 0.9361 - accuracy: 0.6393 - val_loss: 1.1287 - val_accuracy: 0.5488 - 2s/epoch - 3ms/step\n",
            "Epoch 16/30\n",
            "469/469 - 2s - loss: 0.9065 - accuracy: 0.6560 - val_loss: 1.1179 - val_accuracy: 0.5655 - 2s/epoch - 3ms/step\n",
            "Epoch 17/30\n",
            "469/469 - 2s - loss: 0.8808 - accuracy: 0.6737 - val_loss: 1.1207 - val_accuracy: 0.5626 - 2s/epoch - 3ms/step\n",
            "Epoch 18/30\n",
            "469/469 - 2s - loss: 0.8545 - accuracy: 0.6802 - val_loss: 1.1267 - val_accuracy: 0.5623 - 2s/epoch - 4ms/step\n",
            "Epoch 19/30\n",
            "469/469 - 2s - loss: 0.8294 - accuracy: 0.6933 - val_loss: 1.1352 - val_accuracy: 0.5640 - 2s/epoch - 3ms/step\n",
            "Epoch 20/30\n",
            "469/469 - 2s - loss: 0.8110 - accuracy: 0.6987 - val_loss: 1.1388 - val_accuracy: 0.5722 - 2s/epoch - 4ms/step\n",
            "Epoch 21/30\n",
            "469/469 - 3s - loss: 0.7887 - accuracy: 0.7090 - val_loss: 1.1440 - val_accuracy: 0.5725 - 3s/epoch - 6ms/step\n",
            "Epoch 22/30\n",
            "469/469 - 2s - loss: 0.7724 - accuracy: 0.7129 - val_loss: 1.1521 - val_accuracy: 0.5696 - 2s/epoch - 4ms/step\n",
            "Epoch 23/30\n",
            "469/469 - 2s - loss: 0.7553 - accuracy: 0.7211 - val_loss: 1.1694 - val_accuracy: 0.5687 - 2s/epoch - 3ms/step\n",
            "Epoch 24/30\n",
            "469/469 - 2s - loss: 0.7393 - accuracy: 0.7276 - val_loss: 1.1765 - val_accuracy: 0.5687 - 2s/epoch - 3ms/step\n",
            "Epoch 25/30\n",
            "469/469 - 2s - loss: 0.7263 - accuracy: 0.7313 - val_loss: 1.1945 - val_accuracy: 0.5673 - 2s/epoch - 3ms/step\n",
            "Epoch 26/30\n",
            "469/469 - 2s - loss: 0.7115 - accuracy: 0.7395 - val_loss: 1.2180 - val_accuracy: 0.5556 - 2s/epoch - 3ms/step\n",
            "Epoch 27/30\n",
            "469/469 - 2s - loss: 0.6995 - accuracy: 0.7429 - val_loss: 1.2242 - val_accuracy: 0.5637 - 2s/epoch - 3ms/step\n",
            "Epoch 28/30\n",
            "469/469 - 3s - loss: 0.6883 - accuracy: 0.7459 - val_loss: 1.2403 - val_accuracy: 0.5681 - 3s/epoch - 6ms/step\n",
            "Epoch 29/30\n",
            "469/469 - 2s - loss: 0.6778 - accuracy: 0.7503 - val_loss: 1.2595 - val_accuracy: 0.5702 - 2s/epoch - 5ms/step\n",
            "Epoch 30/30\n",
            "469/469 - 2s - loss: 0.6649 - accuracy: 0.7548 - val_loss: 1.2687 - val_accuracy: 0.5664 - 2s/epoch - 3ms/step\n"
          ]
        }
      ]
    },
    {
      "cell_type": "code",
      "source": [
        "import matplotlib.pyplot as plt\n",
        "\n",
        "\n",
        "def plot_graphs(history, string):\n",
        "  plt.plot(history.history[string])\n",
        "  plt.plot(history.history['val_'+string])\n",
        "  plt.xlabel(\"Epochs\")\n",
        "  plt.ylabel(string)\n",
        "  plt.legend([string, 'val_'+string])\n",
        "  plt.show()\n",
        "  \n",
        "plot_graphs(history, \"accuracy\")\n",
        "plot_graphs(history, \"loss\")"
      ],
      "metadata": {
        "colab": {
          "base_uri": "https://localhost:8080/",
          "height": 881
        },
        "id": "IYjlzxc24h5g",
        "outputId": "9b77babf-b13f-43ba-b1e2-dc6f61e9a499"
      },
      "execution_count": 29,
      "outputs": [
        {
          "output_type": "display_data",
          "data": {
            "text/plain": [
              "<Figure size 640x480 with 1 Axes>"
            ],
            "image/png": "[encoded data removed]"
          },
          "metadata": {}
        },
        {
          "output_type": "display_data",
          "data": {
            "text/plain": [
              "<Figure size 640x480 with 1 Axes>"
            ],
            "image/png": "[encoded data removed]"
          },
          "metadata": {}
        }
      ]
    },
    {
      "cell_type": "code",
      "source": [
        "reverse_word_index = dict([(value, key) for (key, value) in word_index.items()])\n",
        "\n",
        "def decode_sentence(text):\n",
        "    return ' '.join([reverse_word_index.get(i, '?') for i in text])\n",
        "\n",
        "print(decode_sentence(training_padded[0]))\n",
        "print(training_sentences[2])\n",
        "print(labels[2])"
      ],
      "metadata": {
        "id": "9HTg04Ww6L2Z",
        "outputId": "8a8204ad-55d1-45a3-8e76-2bedd0830b51",
        "colab": {
          "base_uri": "https://localhost:8080/"
        }
      },
      "execution_count": 30,
      "outputs": [
        {
          "output_type": "stream",
          "name": "stdout",
          "text": [
            "<OOV> বাস ভালো ? ? ? ? ? ? ? ? ? ? ? ? ? ? ? ? ? ? ? ? ? ? ? ? ? ? ? ? ? ? ? ? ? ? ? ? ? ? ? ? ? ? ? ? ? ? ? ? ? ? ? ? ? ? ? ? ? ? ? ? ? ? ? ? ? ? ? ? ? ? ? ? ? ? ? ? ? ? ? ? ? ? ? ? ? ? ? ? ? ? ? ? ? ? ? ? ?\n",
            "বিয়ের মহল ছেড়ে বিস্রাম নং ছবি বিয়ের মারা নব বধু\n",
            "3\n"
          ]
        }
      ]
    },
    {
      "cell_type": "code",
      "source": [
        "df.Data.values[:6]"
      ],
      "metadata": {
        "id": "9zW0Ixcn6wmJ",
        "outputId": "af2c8e51-95ef-475b-cdc3-bde8e9a6d481",
        "colab": {
          "base_uri": "https://localhost:8080/"
        }
      },
      "execution_count": 34,
      "outputs": [
        {
          "output_type": "execute_result",
          "data": {
            "text/plain": [
              "array(['লকাল বাস ভালো এটা থেকে ',\n",
              "       'কত অভিজানই তো চলে কিন্তু ওয়াসার পানির অভিজান করে না কেন ',\n",
              "       'বিয়ের মহল ছেড়ে তিনি বিস্রাম নিতে চলে যান (৬ নং ছবি )বিয়ের ৫ দিন পর মারা যান এই নব বধু ',\n",
              "       'চাচাজি তো কেবল মাকে ধর্ষণ করেছেন ', 'সত্যিকার মানুষ তারাই ভাই ',\n",
              "       'ভালবাসা আরো হাগার গুণ বেড়ে গেল '], dtype=object)"
            ]
          },
          "metadata": {},
          "execution_count": 34
        }
      ]
    },
    {
      "cell_type": "code",
      "source": [
        "sentence = [\"সাকিব খেলায় ১০০ করেছে\", \"দূর হ শালা\", \"শালা আমার অনেক ভালো\", \"বিয়ে করে ফেসে গেলাম\"]\n",
        "sequences = tokenizer.texts_to_sequences(sentence)\n",
        "padded = pad_sequences(sequences, maxlen=max_length, padding=padding_type, truncating=trunc_type)\n",
        "print(model.predict(padded))"
      ],
      "metadata": {
        "id": "kv1y5DEc6pS6",
        "outputId": "b771b4e6-99e4-40ef-cb08-621493806a5e",
        "colab": {
          "base_uri": "https://localhost:8080/"
        }
      },
      "execution_count": 38,
      "outputs": [
        {
          "output_type": "stream",
          "name": "stdout",
          "text": [
            "1/1 [==============================] - 0s 25ms/step\n",
            "[[1.0144266e-01 6.5052831e-01 5.9717711e-02 1.0694025e-01 7.1272954e-02\n",
            "  1.0098132e-02]\n",
            " [2.3330199e-06 7.0012704e-04 1.1017858e-03 3.8735364e-03 9.9426728e-01\n",
            "  5.4991971e-05]\n",
            " [4.5733268e-06 1.6731655e-03 1.2962394e-03 3.6043189e-03 9.9335915e-01\n",
            "  6.2562423e-05]\n",
            " [5.2610043e-02 4.7345021e-01 7.9321623e-02 1.7125762e-01 2.1159090e-01\n",
            "  1.1769616e-02]]\n"
          ]
        }
      ]
    }
  ]
}